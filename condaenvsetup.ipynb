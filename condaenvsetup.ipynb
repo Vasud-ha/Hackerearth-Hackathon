{
 "cells": [
  {
   "cell_type": "code",
   "execution_count": 1,
   "id": "5e331162-3982-4709-900c-518978f0916b",
   "metadata": {},
   "outputs": [
    {
     "name": "stdout",
     "output_type": "stream",
     "text": [
      "/home/u180752\n",
      "/home/u180752/Hackerearth-Hackathon\n",
      "condaenvsetup.ipynb  README.md\t  setupenv.sh.e2078658\n",
      "oneAPI-samples\t     setupenv.sh  setupenv.sh.o2078658\n"
     ]
    }
   ],
   "source": [
    "%cd\n",
    "%cd Hackerearth-Hackathon/\n",
    "!ls"
   ]
  },
  {
   "cell_type": "code",
   "execution_count": 2,
   "id": "7b2f9612-f599-40d3-b02c-07318bb40199",
   "metadata": {},
   "outputs": [
    {
     "name": "stdout",
     "output_type": "stream",
     "text": [
      "Overwriting setupenv.sh\n"
     ]
    }
   ],
   "source": [
    "%%writefile setupenv.sh\n",
    "\n",
    "#Remove old files \n",
    "rm -rf setupenv.sh.*\n",
    "\n",
    "source /opt/intel/oneapi/setvars.sh\n",
    "###################################################################\n",
    "#Create stock tensorflow conda env: \n",
    "conda create -n stock-tensorflow python matplotlib ipykernel psutil pandas gitpython\n",
    "\n",
    "#Activate the created conda env: \n",
    "source activate stock-tensorflow\n",
    "\n",
    "#Install latest stock Tensorflow version:\n",
    "pip install tensorflow-cpu==2.11 \n",
    "\n",
    "#upgrade the existing numpy version\n",
    "pip install numpy --upgrade\n",
    "\n",
    "#Deactivate conda env:\n",
    "conda deactivate\n",
    "\n",
    "#Register the kernel to Jupyter NB: \n",
    "~/.conda/envs/stock-tensorflow/bin/python -m ipykernel install --user --name=stock-tensorflow\n",
    "#####################################################################\n",
    "#Create intel tensorflow conda env: \n",
    "conda create --name intel-tensorflow --clone tensorflow\n",
    "\n",
    "#Activate the created conda env: \n",
    "source activate intel-tensorflow\n",
    "\n",
    "#Install extra needed package:\n",
    "pip install cxxfilt matplotlib ipykernel psutil pandas gitpython\n",
    "\n",
    "#Deactivate conda env: \n",
    "conda deactivate\n",
    "\n",
    "#Register the kernel to Jupyter NB: \n",
    "~/.conda/envs/intel-tensorflow/bin/python -m ipykernel install --user --name=intel-tensorflow\n",
    "###############################################################\n",
    "#Create intel modin conda env: \n",
    "conda create -n intel-modin python matplotlib ipykernel psutil gitpython\n",
    "\n",
    "#Activate the created conda env: \n",
    "source activate intel-modin\n",
    "\n",
    "#Install latest modin:\n",
    "conda install -c intel modin-all\n",
    "\n",
    "# upgrade to its latest version\n",
    "pip install -U modin\n",
    "\n",
    "# upgrade to its latest version\n",
    "pip install numpy --upgrade\n",
    "\n",
    "#Deactivate conda env:\n",
    "conda deactivate\n",
    "\n",
    "#Register the kernel to Jupyter NB: \n",
    "~/.conda/envs/intel-modin/bin/python -m ipykernel install --user --name=intel-modin"
   ]
  },
  {
   "cell_type": "code",
   "execution_count": 3,
   "id": "0f4008c0-92c8-4d1c-b877-e1f83ba7023a",
   "metadata": {},
   "outputs": [
    {
     "name": "stdout",
     "output_type": "stream",
     "text": [
      "\n",
      "#Remove old files \n",
      "rm -rf setupenv.sh.*\n",
      "\n",
      "source /opt/intel/oneapi/setvars.sh\n",
      "###################################################################\n",
      "#Create stock tensorflow conda env: \n",
      "conda create -n stock-tensorflow python matplotlib ipykernel psutil pandas gitpython\n",
      "\n",
      "#Activate the created conda env: \n",
      "source activate stock-tensorflow\n",
      "\n",
      "#Install latest stock Tensorflow version:\n",
      "pip install tensorflow-cpu==2.11 \n",
      "\n",
      "#upgrade the existing numpy version\n",
      "pip install numpy --upgrade\n",
      "\n",
      "#Deactivate conda env:\n",
      "conda deactivate\n",
      "\n",
      "#Register the kernel to Jupyter NB: \n",
      "~/.conda/envs/stock-tensorflow/bin/python -m ipykernel install --user --name=stock-tensorflow\n",
      "#####################################################################\n",
      "#Create intel tensorflow conda env: \n",
      "conda create --name intel-tensorflow --clone tensorflow\n",
      "\n",
      "#Activate the created conda env: \n",
      "source activate intel-tensorflow\n",
      "\n",
      "#Install extra needed package:\n",
      "pip install cxxfilt matplotlib ipykernel psutil pandas gitpython\n",
      "\n",
      "#Deactivate conda env: \n",
      "conda deactivate\n",
      "\n",
      "#Register the kernel to Jupyter NB: \n",
      "~/.conda/envs/intel-tensorflow/bin/python -m ipykernel install --user --name=intel-tensorflow\n",
      "###############################################################\n",
      "#Create intel modin conda env: \n",
      "conda create -n intel-modin python matplotlib ipykernel psutil gitpython\n",
      "\n",
      "#Activate the created conda env: \n",
      "source activate intel-modin\n",
      "\n",
      "#Install latest modin:\n",
      "conda install -c intel modin-all\n",
      "\n",
      "# upgrade to its latest version\n",
      "pip install -U modin\n",
      "\n",
      "# upgrade to its latest version\n",
      "pip install numpy --upgrade\n",
      "\n",
      "#Deactivate conda env:\n",
      "conda deactivate\n",
      "\n",
      "#Register the kernel to Jupyter NB: \n",
      "~/.conda/envs/intel-modin/bin/python -m ipykernel install --user --name=intel-modin\n"
     ]
    }
   ],
   "source": [
    "!cat setupenv.sh"
   ]
  },
  {
   "cell_type": "code",
   "execution_count": 4,
   "id": "99b3dfad-b2f3-43dc-a8bb-f258fcd42c14",
   "metadata": {},
   "outputs": [
    {
     "name": "stdout",
     "output_type": "stream",
     "text": [
      "2078911.v-qsvr-1.aidevcloud\n"
     ]
    }
   ],
   "source": [
    "!qsub setupenv.sh -l nodes=1:ppn=2 -d ."
   ]
  },
  {
   "cell_type": "code",
   "execution_count": 14,
   "id": "3ae8aed0-b613-401b-9418-97d2b497fae7",
   "metadata": {},
   "outputs": [
    {
     "name": "stdout",
     "output_type": "stream",
     "text": [
      "Job ID                    Name             User            Time Use S Queue\n",
      "------------------------- ---------------- --------------- -------- - -----\n",
      "2078725.v-qsvr-1           ...ub-singleuser u180752         00:46:45 R jupyterhub     \n"
     ]
    }
   ],
   "source": [
    "!qstat"
   ]
  },
  {
   "cell_type": "code",
   "execution_count": null,
   "id": "a3936c65-fc95-4fa6-810b-751ee6f43a8b",
   "metadata": {},
   "outputs": [],
   "source": [
    "!grep -e \"Successfully\"  setupenv.sh.o*"
   ]
  },
  {
   "cell_type": "code",
   "execution_count": null,
   "id": "82afcbce-06b9-4ec9-8491-0a2cc79fac58",
   "metadata": {},
   "outputs": [],
   "source": []
  }
 ],
 "metadata": {
  "kernelspec": {
   "display_name": "Python 3 (Intel® oneAPI 2022.3)",
   "language": "python",
   "name": "c009-intel_distribution_of_python_3_oneapi-beta05-python"
  },
  "language_info": {
   "codemirror_mode": {
    "name": "ipython",
    "version": 3
   },
   "file_extension": ".py",
   "mimetype": "text/x-python",
   "name": "python",
   "nbconvert_exporter": "python",
   "pygments_lexer": "ipython3",
   "version": "3.9.13"
  }
 },
 "nbformat": 4,
 "nbformat_minor": 5
}
