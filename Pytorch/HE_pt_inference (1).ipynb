{
 "cells": [
  {
   "cell_type": "markdown",
   "id": "f79bc7de-6bd5-4918-9163-2d4ac0c7dc23",
   "metadata": {},
   "source": [
    "# Intel® oneAPI Hackathon for Open Innovation - Accelerating PyTorch Deep Learning Models on Intel XPUs - Hands-on Lab"
   ]
  },
  {
   "cell_type": "markdown",
   "id": "5d2b9e54-81e2-4724-b623-d72c408efe49",
   "metadata": {},
   "source": [
    "## Use of Intel® Extension for PyTorch* for Inference"
   ]
  },
  {
   "cell_type": "markdown",
   "id": "7903f8f4-6de4-4a62-a5f5-0eedcfd4eef3",
   "metadata": {},
   "source": [
    "In this hands-on lab we will demonstrate how **IPEX** can be used for **resnet50** model inference in PyTorch framework. For any other PyTorch model, same process can be followed to leverage IPEX optimizations. "
   ]
  },
  {
   "cell_type": "markdown",
   "id": "d62270b9-7b86-4b55-b288-ae00fad6e3ce",
   "metadata": {},
   "source": [
    "### Computer Vision Workload - Image Classification with Resnet50 "
   ]
  },
  {
   "cell_type": "markdown",
   "id": "8817088d-ad15-4440-9c49-eadf8390c87d",
   "metadata": {},
   "source": [
    "In this notebook we will be generating sample data to be used for inference with sample computer vision. We will first use stock PyTorch models to generate predictions. \n",
    "Then, with minimal code changes using Intel® Extension for PyTorch*, we will see how speedups can be gained over stock PyTorch on Intel® CPU. \n",
    "\n",
    "<b> I. Measure baseline Pytorch inference latency for pretrained ResNet50 model</b><br>\n",
    "<b> II. Apply channel last optimization on the model and input data</b><br>\n",
    "<b> III. Apply Intel Extension for Pytorch and Torchscript optimization</b><br>\n",
    "<b> IV. Using IPEX Launch Script - Single instance for inference</b><br>"
   ]
  },
  {
   "cell_type": "markdown",
   "id": "a5802b92-e5f6-46ba-9b7e-ed99ae52f54e",
   "metadata": {},
   "source": [
    " Let's start by installing required packages"
   ]
  },
  {
   "cell_type": "code",
   "execution_count": null,
   "id": "0ea2d172-cd4b-40be-b679-6ffe2afa5c17",
   "metadata": {},
   "outputs": [],
   "source": [
    "#!pip install --user --upgrade torch torchvision tqdm matplotlib# Install Pytorch and Torchvision\n",
    "!pip install torch torchvision torchaudio --extra-index-url https://download.pytorch.org/whl/cpu\n",
    "!python -m pip install intel_extension_for_pytorch\n",
    "#!pip install --user --upgrade ??? # TO-DO: Modify this line inroder to install Intel Extension for Pytorch"
   ]
  },
  {
   "cell_type": "markdown",
   "id": "0d8bbb4d-ba36-4bf4-baba-b5f62231ce7b",
   "metadata": {},
   "source": [
    "Let's start by importing all the necessary packages and modules"
   ]
  },
  {
   "cell_type": "code",
   "execution_count": 1,
   "id": "420a8422-8b4e-499d-beb6-f2eb334cdfc8",
   "metadata": {},
   "outputs": [],
   "source": [
    "import torch\n",
    "import torchvision.models as models\n",
    "import time\n",
    "from tqdm import tqdm"
   ]
  },
  {
   "cell_type": "markdown",
   "id": "9c6c13ac-b43f-447e-be19-9da47042a3eb",
   "metadata": {},
   "source": [
    "<b> I. Measure baseline Pytorch inference latency for pretrained ResNet50 model </b><br>\n",
    "&emsp; The code cells below downloads a ResNet50 model with pretrained weights and runs inference on it using some random input data. The average inference latency per input is saved as <em>pytorch_baseline_latency</em>."
   ]
  },
  {
   "cell_type": "code",
   "execution_count": 2,
   "id": "55ebfbfe-ca6f-4b02-a50f-518825f04569",
   "metadata": {},
   "outputs": [
    {
     "name": "stderr",
     "output_type": "stream",
     "text": [
      "/home/u154865/.local/lib/python3.9/site-packages/torchvision/models/_utils.py:208: UserWarning: The parameter 'pretrained' is deprecated since 0.13 and will be removed in 0.15, please use 'weights' instead.\n",
      "  warnings.warn(\n",
      "/home/u154865/.local/lib/python3.9/site-packages/torchvision/models/_utils.py:223: UserWarning: Arguments other than a weight enum or `None` for 'weights' are deprecated since 0.13 and will be removed in 0.15. The current behavior is equivalent to passing `weights=ResNet50_Weights.IMAGENET1K_V1`. You can also use `weights=ResNet50_Weights.DEFAULT` to get the most up-to-date weights.\n",
      "  warnings.warn(msg)\n"
     ]
    },
    {
     "data": {
      "text/plain": [
       "ResNet(\n",
       "  (conv1): Conv2d(3, 64, kernel_size=(7, 7), stride=(2, 2), padding=(3, 3), bias=False)\n",
       "  (bn1): BatchNorm2d(64, eps=1e-05, momentum=0.1, affine=True, track_running_stats=True)\n",
       "  (relu): ReLU(inplace=True)\n",
       "  (maxpool): MaxPool2d(kernel_size=3, stride=2, padding=1, dilation=1, ceil_mode=False)\n",
       "  (layer1): Sequential(\n",
       "    (0): Bottleneck(\n",
       "      (conv1): Conv2d(64, 64, kernel_size=(1, 1), stride=(1, 1), bias=False)\n",
       "      (bn1): BatchNorm2d(64, eps=1e-05, momentum=0.1, affine=True, track_running_stats=True)\n",
       "      (conv2): Conv2d(64, 64, kernel_size=(3, 3), stride=(1, 1), padding=(1, 1), bias=False)\n",
       "      (bn2): BatchNorm2d(64, eps=1e-05, momentum=0.1, affine=True, track_running_stats=True)\n",
       "      (conv3): Conv2d(64, 256, kernel_size=(1, 1), stride=(1, 1), bias=False)\n",
       "      (bn3): BatchNorm2d(256, eps=1e-05, momentum=0.1, affine=True, track_running_stats=True)\n",
       "      (relu): ReLU(inplace=True)\n",
       "      (downsample): Sequential(\n",
       "        (0): Conv2d(64, 256, kernel_size=(1, 1), stride=(1, 1), bias=False)\n",
       "        (1): BatchNorm2d(256, eps=1e-05, momentum=0.1, affine=True, track_running_stats=True)\n",
       "      )\n",
       "    )\n",
       "    (1): Bottleneck(\n",
       "      (conv1): Conv2d(256, 64, kernel_size=(1, 1), stride=(1, 1), bias=False)\n",
       "      (bn1): BatchNorm2d(64, eps=1e-05, momentum=0.1, affine=True, track_running_stats=True)\n",
       "      (conv2): Conv2d(64, 64, kernel_size=(3, 3), stride=(1, 1), padding=(1, 1), bias=False)\n",
       "      (bn2): BatchNorm2d(64, eps=1e-05, momentum=0.1, affine=True, track_running_stats=True)\n",
       "      (conv3): Conv2d(64, 256, kernel_size=(1, 1), stride=(1, 1), bias=False)\n",
       "      (bn3): BatchNorm2d(256, eps=1e-05, momentum=0.1, affine=True, track_running_stats=True)\n",
       "      (relu): ReLU(inplace=True)\n",
       "    )\n",
       "    (2): Bottleneck(\n",
       "      (conv1): Conv2d(256, 64, kernel_size=(1, 1), stride=(1, 1), bias=False)\n",
       "      (bn1): BatchNorm2d(64, eps=1e-05, momentum=0.1, affine=True, track_running_stats=True)\n",
       "      (conv2): Conv2d(64, 64, kernel_size=(3, 3), stride=(1, 1), padding=(1, 1), bias=False)\n",
       "      (bn2): BatchNorm2d(64, eps=1e-05, momentum=0.1, affine=True, track_running_stats=True)\n",
       "      (conv3): Conv2d(64, 256, kernel_size=(1, 1), stride=(1, 1), bias=False)\n",
       "      (bn3): BatchNorm2d(256, eps=1e-05, momentum=0.1, affine=True, track_running_stats=True)\n",
       "      (relu): ReLU(inplace=True)\n",
       "    )\n",
       "  )\n",
       "  (layer2): Sequential(\n",
       "    (0): Bottleneck(\n",
       "      (conv1): Conv2d(256, 128, kernel_size=(1, 1), stride=(1, 1), bias=False)\n",
       "      (bn1): BatchNorm2d(128, eps=1e-05, momentum=0.1, affine=True, track_running_stats=True)\n",
       "      (conv2): Conv2d(128, 128, kernel_size=(3, 3), stride=(2, 2), padding=(1, 1), bias=False)\n",
       "      (bn2): BatchNorm2d(128, eps=1e-05, momentum=0.1, affine=True, track_running_stats=True)\n",
       "      (conv3): Conv2d(128, 512, kernel_size=(1, 1), stride=(1, 1), bias=False)\n",
       "      (bn3): BatchNorm2d(512, eps=1e-05, momentum=0.1, affine=True, track_running_stats=True)\n",
       "      (relu): ReLU(inplace=True)\n",
       "      (downsample): Sequential(\n",
       "        (0): Conv2d(256, 512, kernel_size=(1, 1), stride=(2, 2), bias=False)\n",
       "        (1): BatchNorm2d(512, eps=1e-05, momentum=0.1, affine=True, track_running_stats=True)\n",
       "      )\n",
       "    )\n",
       "    (1): Bottleneck(\n",
       "      (conv1): Conv2d(512, 128, kernel_size=(1, 1), stride=(1, 1), bias=False)\n",
       "      (bn1): BatchNorm2d(128, eps=1e-05, momentum=0.1, affine=True, track_running_stats=True)\n",
       "      (conv2): Conv2d(128, 128, kernel_size=(3, 3), stride=(1, 1), padding=(1, 1), bias=False)\n",
       "      (bn2): BatchNorm2d(128, eps=1e-05, momentum=0.1, affine=True, track_running_stats=True)\n",
       "      (conv3): Conv2d(128, 512, kernel_size=(1, 1), stride=(1, 1), bias=False)\n",
       "      (bn3): BatchNorm2d(512, eps=1e-05, momentum=0.1, affine=True, track_running_stats=True)\n",
       "      (relu): ReLU(inplace=True)\n",
       "    )\n",
       "    (2): Bottleneck(\n",
       "      (conv1): Conv2d(512, 128, kernel_size=(1, 1), stride=(1, 1), bias=False)\n",
       "      (bn1): BatchNorm2d(128, eps=1e-05, momentum=0.1, affine=True, track_running_stats=True)\n",
       "      (conv2): Conv2d(128, 128, kernel_size=(3, 3), stride=(1, 1), padding=(1, 1), bias=False)\n",
       "      (bn2): BatchNorm2d(128, eps=1e-05, momentum=0.1, affine=True, track_running_stats=True)\n",
       "      (conv3): Conv2d(128, 512, kernel_size=(1, 1), stride=(1, 1), bias=False)\n",
       "      (bn3): BatchNorm2d(512, eps=1e-05, momentum=0.1, affine=True, track_running_stats=True)\n",
       "      (relu): ReLU(inplace=True)\n",
       "    )\n",
       "    (3): Bottleneck(\n",
       "      (conv1): Conv2d(512, 128, kernel_size=(1, 1), stride=(1, 1), bias=False)\n",
       "      (bn1): BatchNorm2d(128, eps=1e-05, momentum=0.1, affine=True, track_running_stats=True)\n",
       "      (conv2): Conv2d(128, 128, kernel_size=(3, 3), stride=(1, 1), padding=(1, 1), bias=False)\n",
       "      (bn2): BatchNorm2d(128, eps=1e-05, momentum=0.1, affine=True, track_running_stats=True)\n",
       "      (conv3): Conv2d(128, 512, kernel_size=(1, 1), stride=(1, 1), bias=False)\n",
       "      (bn3): BatchNorm2d(512, eps=1e-05, momentum=0.1, affine=True, track_running_stats=True)\n",
       "      (relu): ReLU(inplace=True)\n",
       "    )\n",
       "  )\n",
       "  (layer3): Sequential(\n",
       "    (0): Bottleneck(\n",
       "      (conv1): Conv2d(512, 256, kernel_size=(1, 1), stride=(1, 1), bias=False)\n",
       "      (bn1): BatchNorm2d(256, eps=1e-05, momentum=0.1, affine=True, track_running_stats=True)\n",
       "      (conv2): Conv2d(256, 256, kernel_size=(3, 3), stride=(2, 2), padding=(1, 1), bias=False)\n",
       "      (bn2): BatchNorm2d(256, eps=1e-05, momentum=0.1, affine=True, track_running_stats=True)\n",
       "      (conv3): Conv2d(256, 1024, kernel_size=(1, 1), stride=(1, 1), bias=False)\n",
       "      (bn3): BatchNorm2d(1024, eps=1e-05, momentum=0.1, affine=True, track_running_stats=True)\n",
       "      (relu): ReLU(inplace=True)\n",
       "      (downsample): Sequential(\n",
       "        (0): Conv2d(512, 1024, kernel_size=(1, 1), stride=(2, 2), bias=False)\n",
       "        (1): BatchNorm2d(1024, eps=1e-05, momentum=0.1, affine=True, track_running_stats=True)\n",
       "      )\n",
       "    )\n",
       "    (1): Bottleneck(\n",
       "      (conv1): Conv2d(1024, 256, kernel_size=(1, 1), stride=(1, 1), bias=False)\n",
       "      (bn1): BatchNorm2d(256, eps=1e-05, momentum=0.1, affine=True, track_running_stats=True)\n",
       "      (conv2): Conv2d(256, 256, kernel_size=(3, 3), stride=(1, 1), padding=(1, 1), bias=False)\n",
       "      (bn2): BatchNorm2d(256, eps=1e-05, momentum=0.1, affine=True, track_running_stats=True)\n",
       "      (conv3): Conv2d(256, 1024, kernel_size=(1, 1), stride=(1, 1), bias=False)\n",
       "      (bn3): BatchNorm2d(1024, eps=1e-05, momentum=0.1, affine=True, track_running_stats=True)\n",
       "      (relu): ReLU(inplace=True)\n",
       "    )\n",
       "    (2): Bottleneck(\n",
       "      (conv1): Conv2d(1024, 256, kernel_size=(1, 1), stride=(1, 1), bias=False)\n",
       "      (bn1): BatchNorm2d(256, eps=1e-05, momentum=0.1, affine=True, track_running_stats=True)\n",
       "      (conv2): Conv2d(256, 256, kernel_size=(3, 3), stride=(1, 1), padding=(1, 1), bias=False)\n",
       "      (bn2): BatchNorm2d(256, eps=1e-05, momentum=0.1, affine=True, track_running_stats=True)\n",
       "      (conv3): Conv2d(256, 1024, kernel_size=(1, 1), stride=(1, 1), bias=False)\n",
       "      (bn3): BatchNorm2d(1024, eps=1e-05, momentum=0.1, affine=True, track_running_stats=True)\n",
       "      (relu): ReLU(inplace=True)\n",
       "    )\n",
       "    (3): Bottleneck(\n",
       "      (conv1): Conv2d(1024, 256, kernel_size=(1, 1), stride=(1, 1), bias=False)\n",
       "      (bn1): BatchNorm2d(256, eps=1e-05, momentum=0.1, affine=True, track_running_stats=True)\n",
       "      (conv2): Conv2d(256, 256, kernel_size=(3, 3), stride=(1, 1), padding=(1, 1), bias=False)\n",
       "      (bn2): BatchNorm2d(256, eps=1e-05, momentum=0.1, affine=True, track_running_stats=True)\n",
       "      (conv3): Conv2d(256, 1024, kernel_size=(1, 1), stride=(1, 1), bias=False)\n",
       "      (bn3): BatchNorm2d(1024, eps=1e-05, momentum=0.1, affine=True, track_running_stats=True)\n",
       "      (relu): ReLU(inplace=True)\n",
       "    )\n",
       "    (4): Bottleneck(\n",
       "      (conv1): Conv2d(1024, 256, kernel_size=(1, 1), stride=(1, 1), bias=False)\n",
       "      (bn1): BatchNorm2d(256, eps=1e-05, momentum=0.1, affine=True, track_running_stats=True)\n",
       "      (conv2): Conv2d(256, 256, kernel_size=(3, 3), stride=(1, 1), padding=(1, 1), bias=False)\n",
       "      (bn2): BatchNorm2d(256, eps=1e-05, momentum=0.1, affine=True, track_running_stats=True)\n",
       "      (conv3): Conv2d(256, 1024, kernel_size=(1, 1), stride=(1, 1), bias=False)\n",
       "      (bn3): BatchNorm2d(1024, eps=1e-05, momentum=0.1, affine=True, track_running_stats=True)\n",
       "      (relu): ReLU(inplace=True)\n",
       "    )\n",
       "    (5): Bottleneck(\n",
       "      (conv1): Conv2d(1024, 256, kernel_size=(1, 1), stride=(1, 1), bias=False)\n",
       "      (bn1): BatchNorm2d(256, eps=1e-05, momentum=0.1, affine=True, track_running_stats=True)\n",
       "      (conv2): Conv2d(256, 256, kernel_size=(3, 3), stride=(1, 1), padding=(1, 1), bias=False)\n",
       "      (bn2): BatchNorm2d(256, eps=1e-05, momentum=0.1, affine=True, track_running_stats=True)\n",
       "      (conv3): Conv2d(256, 1024, kernel_size=(1, 1), stride=(1, 1), bias=False)\n",
       "      (bn3): BatchNorm2d(1024, eps=1e-05, momentum=0.1, affine=True, track_running_stats=True)\n",
       "      (relu): ReLU(inplace=True)\n",
       "    )\n",
       "  )\n",
       "  (layer4): Sequential(\n",
       "    (0): Bottleneck(\n",
       "      (conv1): Conv2d(1024, 512, kernel_size=(1, 1), stride=(1, 1), bias=False)\n",
       "      (bn1): BatchNorm2d(512, eps=1e-05, momentum=0.1, affine=True, track_running_stats=True)\n",
       "      (conv2): Conv2d(512, 512, kernel_size=(3, 3), stride=(2, 2), padding=(1, 1), bias=False)\n",
       "      (bn2): BatchNorm2d(512, eps=1e-05, momentum=0.1, affine=True, track_running_stats=True)\n",
       "      (conv3): Conv2d(512, 2048, kernel_size=(1, 1), stride=(1, 1), bias=False)\n",
       "      (bn3): BatchNorm2d(2048, eps=1e-05, momentum=0.1, affine=True, track_running_stats=True)\n",
       "      (relu): ReLU(inplace=True)\n",
       "      (downsample): Sequential(\n",
       "        (0): Conv2d(1024, 2048, kernel_size=(1, 1), stride=(2, 2), bias=False)\n",
       "        (1): BatchNorm2d(2048, eps=1e-05, momentum=0.1, affine=True, track_running_stats=True)\n",
       "      )\n",
       "    )\n",
       "    (1): Bottleneck(\n",
       "      (conv1): Conv2d(2048, 512, kernel_size=(1, 1), stride=(1, 1), bias=False)\n",
       "      (bn1): BatchNorm2d(512, eps=1e-05, momentum=0.1, affine=True, track_running_stats=True)\n",
       "      (conv2): Conv2d(512, 512, kernel_size=(3, 3), stride=(1, 1), padding=(1, 1), bias=False)\n",
       "      (bn2): BatchNorm2d(512, eps=1e-05, momentum=0.1, affine=True, track_running_stats=True)\n",
       "      (conv3): Conv2d(512, 2048, kernel_size=(1, 1), stride=(1, 1), bias=False)\n",
       "      (bn3): BatchNorm2d(2048, eps=1e-05, momentum=0.1, affine=True, track_running_stats=True)\n",
       "      (relu): ReLU(inplace=True)\n",
       "    )\n",
       "    (2): Bottleneck(\n",
       "      (conv1): Conv2d(2048, 512, kernel_size=(1, 1), stride=(1, 1), bias=False)\n",
       "      (bn1): BatchNorm2d(512, eps=1e-05, momentum=0.1, affine=True, track_running_stats=True)\n",
       "      (conv2): Conv2d(512, 512, kernel_size=(3, 3), stride=(1, 1), padding=(1, 1), bias=False)\n",
       "      (bn2): BatchNorm2d(512, eps=1e-05, momentum=0.1, affine=True, track_running_stats=True)\n",
       "      (conv3): Conv2d(512, 2048, kernel_size=(1, 1), stride=(1, 1), bias=False)\n",
       "      (bn3): BatchNorm2d(2048, eps=1e-05, momentum=0.1, affine=True, track_running_stats=True)\n",
       "      (relu): ReLU(inplace=True)\n",
       "    )\n",
       "  )\n",
       "  (avgpool): AdaptiveAvgPool2d(output_size=(1, 1))\n",
       "  (fc): Linear(in_features=2048, out_features=1000, bias=True)\n",
       ")"
      ]
     },
     "execution_count": 2,
     "metadata": {},
     "output_type": "execute_result"
    }
   ],
   "source": [
    "num_images = 1000\n",
    "num_inference_rounds = 1000\n",
    "num_warmup_rounds = 5\n",
    "# Pulling ResNet50 model from Torchvision.models\n",
    "model = models.resnet50(pretrained=True) \n",
    "# Converting the graph to inference mode\n",
    "model.eval() "
   ]
  },
  {
   "cell_type": "code",
   "execution_count": 3,
   "id": "f042109c-7691-431d-9ea9-215634f30c0b",
   "metadata": {},
   "outputs": [],
   "source": [
    "# Utility function for measuring average inference latency\n",
    "def measure_latency(model, dummy_input):\n",
    "    global num_warmup_rounds\n",
    "    global num_inference_rounds\n",
    "    # A couple of warmup inference rounds to get everything up to speed.\n",
    "    # Note: The warmup exectuion time is excluded from the comptuation of average inference latency\n",
    "    for i in range(num_warmup_rounds):\n",
    "        model(dummy_input[i])\n",
    "    start_time = time.time()\n",
    "    for i in tqdm(range(num_inference_rounds)):\n",
    "        model(dummy_input[i])\n",
    "    end_time = time.time()\n",
    "    return 1000*(end_time - start_time)/num_inference_rounds"
   ]
  },
  {
   "cell_type": "code",
   "execution_count": 4,
   "id": "1c18e73d-8c2b-45f4-bb7f-bfed8dc26197",
   "metadata": {},
   "outputs": [
    {
     "name": "stderr",
     "output_type": "stream",
     "text": [
      "100%|██████████| 1000/1000 [00:35<00:00, 28.08it/s]"
     ]
    },
    {
     "name": "stdout",
     "output_type": "stream",
     "text": [
      "Pytorch Baseline Inference latency = 35.63 milliseconds/image\n"
     ]
    },
    {
     "name": "stderr",
     "output_type": "stream",
     "text": [
      "\n"
     ]
    }
   ],
   "source": [
    "# Creating an array to hold dummy input images\n",
    "dummy_input=[]  \n",
    "for i in range(num_images):\n",
    "    dummy_input.append(torch.rand(1, 3, 224, 224))\n",
    "\n",
    "# Measure baseline Pytorch inference latency\n",
    "pytorch_baseline_latency = measure_latency(model, dummy_input)\n",
    "print(\"Pytorch Baseline Inference latency = {:.2f} milliseconds/image\".format(pytorch_baseline_latency))"
   ]
  },
  {
   "cell_type": "markdown",
   "id": "058acf72-f6c8-4126-8041-a9ab38939ed2",
   "metadata": {},
   "source": [
    "<b> II. Apply channel last optimization on the model and input data</b><br>\n",
    "&emsp; <em> Hint: More info on channel last layout [here](https://intel.github.io/intel-extension-for-pytorch/latest/tutorials/performance_tuning/tuning_guide.html#channels-last)</em>"
   ]
  },
  {
   "cell_type": "code",
   "execution_count": null,
   "id": "aa666e96-8771-4694-8cf0-83f633f3c618",
   "metadata": {},
   "outputs": [
    {
     "name": "stderr",
     "output_type": "stream",
     "text": [
      " 78%|███████▊  | 777/1000 [00:26<00:07, 29.17it/s]"
     ]
    }
   ],
   "source": [
    "# Apply Channels-Last Memory layout optimization\n",
    "channel_last_model = model.to(memory_format=torch.channels_last)  # TO-DO Modify thisline to convert the model to Channel-Last memory layout\n",
    "channel_last_dummy_input=[]  \n",
    "for i in range(num_images):\n",
    "    channel_last_dummy_input.append(torch.rand(1, 3, 224, 224).to(memory_format=torch.channels_last)) # TO-DO Modify this line to convert data to Channel-Last memory layout\n",
    "\n",
    "# Measure performance advantage from Channel-last memory layout optimization\n",
    "pytorch_channel_last_latency = measure_latency(channel_last_model, channel_last_dummy_input)\n",
    "print(\"Pytorch Channel-Last Layout Inference latency = {:.2f} milliseconds/image\".format(pytorch_channel_last_latency))"
   ]
  },
  {
   "cell_type": "markdown",
   "id": "db5664b1-2635-4c5d-a3a1-c6968dfde6c3",
   "metadata": {},
   "source": [
    "<b> III. Apply Intel Extension for Pytorch and Torchscript optimization</b><br>\n",
    "&emsp; Success Criterion : Further optimization using Intel Extension for Pytorch and Torchscript should provide a latency improvement of around 60% compared against the Pytorch Baseline Inference latency<br>\n",
    "&emsp; <em> Hint: More info on these optimizations [here](https://intel.github.io/intel-extension-for-pytorch/latest/tutorials/examples.html#inference)</em>"
   ]
  },
  {
   "cell_type": "code",
   "execution_count": 9,
   "id": "dd6e19fe-4666-4f5e-afd7-4939f5082fad",
   "metadata": {},
   "outputs": [
    {
     "name": "stderr",
     "output_type": "stream",
     "text": [
      "100%|██████████| 1000/1000 [00:12<00:00, 79.90it/s]"
     ]
    },
    {
     "name": "stdout",
     "output_type": "stream",
     "text": [
      "Intel Extension for Pytorch and Torchscript combined optimized Inference latency = 12.52 milliseconds/image\n"
     ]
    },
    {
     "name": "stderr",
     "output_type": "stream",
     "text": [
      "\n"
     ]
    }
   ],
   "source": [
    "# Apply optimizations provided by Intel Extensions For Pytorch\n",
    "import intel_extension_for_pytorch as ipex   # TO-DO  import Intel Extension for Pytorch\n",
    "ipex_optimized_model = ipex.optimize(channel_last_model)  # TO-DO invoke the Intel Extension for Pytorch 'optimize' method \n",
    "\n",
    "# Apply Torchscript optimization on Intel optimized model\n",
    "with torch.no_grad():\n",
    "    d = torch.rand(1, 3, 224, 224)\n",
    "    jit_model = torch.jit.trace(ipex_optimized_model, d) # TO-DO JIT trace the optimized model\n",
    "    jit_model = torch.jit.freeze(jit_model) # TO-DO JIT freeze the traced model\n",
    "\n",
    "# Measure Torchscript + ipex optimized inference latency\n",
    "jit_optimized_latency = measure_latency(jit_model, channel_last_dummy_input)\n",
    "print(\"Intel Extension for Pytorch and Torchscript combined optimized Inference latency = {:.2f} milliseconds/image\".format(jit_optimized_latency))"
   ]
  },
  {
   "cell_type": "markdown",
   "id": "26da5970-8ea4-476f-8d75-ac6cbd66fe28",
   "metadata": {},
   "source": [
    "<b>Comparing the performance on a bar chart</b><br>"
   ]
  },
  {
   "cell_type": "code",
   "execution_count": 11,
   "id": "ff9f7493-5bcc-49bc-b368-62f25a912060",
   "metadata": {},
   "outputs": [
    {
     "data": {
      "image/png": "[encoded data removed]",
      "text/plain": [
       "<Figure size 800x500 with 1 Axes>"
      ]
     },
     "metadata": {},
     "output_type": "display_data"
    }
   ],
   "source": [
    "import matplotlib.pyplot as plt\n",
    "fig = plt.figure(figsize = (8, 5))\n",
    "\n",
    "bar_titles = ['PT_Baseline', 'Channel_last_PT', 'Intel Extension for PT + Torchscript']\n",
    "bar_values = [pytorch_baseline_latency, pytorch_channel_last_latency, jit_optimized_latency]\n",
    "plt.bar(bar_titles, bar_values, color ='#0071c5', width = 0.4)\n",
    "plt.ylabel(\"Average Inference Latency (Lower is better)\")\n",
    "plt.title(\"Inference Performance Optimization using Intel Extension for Pytorch\")\n",
    "plt.show()"
   ]
  },
  {
   "cell_type": "markdown",
   "id": "b30a0aec-966e-44bd-8b2c-0da00217b5e4",
   "metadata": {},
   "source": [
    "<b> IV. IPEX Launch Script - Single instance for inference</b><br>"
   ]
  },
  {
   "cell_type": "markdown",
   "id": "ca88f06a-0f0c-4fba-b98e-c7aa07a53097",
   "metadata": {},
   "source": [
    "There are several factors that influence performance. Setting configuration options properly contributes to a performance boost. However, there is no unified configuration that is optimal to all topologies. Users need to try different combinations by themselves. A launch script is provided to automate these configuration settings to free users from this complicated work."
   ]
  },
  {
   "cell_type": "code",
   "execution_count": null,
   "id": "24950e09-996f-430e-b53f-a75b683807a2",
   "metadata": {},
   "outputs": [],
   "source": [
    "!python -m intel_extension_for_pytorch.cpu.launch --log_path ./logs script.py"
   ]
  }
 ],
 "metadata": {
  "kernelspec": {
   "display_name": "PyTorch (AI kit)",
   "language": "python",
   "name": "c009-intel_distribution_of_python_3_oneapi-beta05-pytorch"
  },
  "language_info": {
   "codemirror_mode": {
    "name": "ipython",
    "version": 3
   },
   "file_extension": ".py",
   "mimetype": "text/x-python",
   "name": "python",
   "nbconvert_exporter": "python",
   "pygments_lexer": "ipython3",
   "version": "3.9.13"
  }
 },
 "nbformat": 4,
 "nbformat_minor": 5
}
